{
  "nbformat": 4,
  "nbformat_minor": 0,
  "metadata": {
    "colab": {
      "name": "2-ProbabilidadeCondicional.ipynb",
      "provenance": [],
      "authorship_tag": "ABX9TyOXi7e+YloEnWR2tzZk3pgc",
      "include_colab_link": true
    },
    "kernelspec": {
      "name": "python3",
      "display_name": "Python 3"
    },
    "language_info": {
      "name": "python"
    }
  },
  "cells": [
    {
      "cell_type": "markdown",
      "metadata": {
        "id": "view-in-github",
        "colab_type": "text"
      },
      "source": [
        "<a href=\"https://colab.research.google.com/github/angeruzzi/ProbabilidadeEstatistica/blob/main/2_ProbabilidadeCondicional.ipynb\" target=\"_parent\"><img src=\"https://colab.research.google.com/assets/colab-badge.svg\" alt=\"Open In Colab\"/></a>"
      ]
    },
    {
      "cell_type": "markdown",
      "metadata": {
        "id": "qM7pkTtqfYCv"
      },
      "source": [
        "# Probabilidade Condicional\n",
        "\n",
        "Anotações do Curso de Estatística para Ciência de Dados: Teoria e Prática com Python (jun/2021)<br> \n",
        "Professor Francisco Aparecido Rodrigues, francisco@icmc.usp.br.<br>\n",
        "Universidade de São Paulo, São Carlos, Brasil.<br>\n",
        "https://sites.icmc.usp.br/francisco <br>\n",
        "Copyright: Creative Commons\n",
        "\n",
        "---------------------------------\n",
        "Aluno: [Alessandro S. Angeruzzi](https://www.linkedin.com/in/alessandroangeruzzi/)\n"
      ]
    },
    {
      "cell_type": "code",
      "metadata": {
        "id": "r4q3bKUQeIx9"
      },
      "source": [
        "import numpy as np\n",
        "import random"
      ],
      "execution_count": 2,
      "outputs": []
    },
    {
      "cell_type": "markdown",
      "metadata": {
        "id": "qyfSobyOhsnU"
      },
      "source": [
        "**Exemplo**: Calcule $P(A|B)$, onde: $\\Omega = \\{1,2,3,\\ldots, 15\\}$<br>\n",
        "A: Sai um valor maior do que 5.<br>\n",
        "B: sai um valor par<br>"
      ]
    },
    {
      "cell_type": "code",
      "metadata": {
        "colab": {
          "base_uri": "https://localhost:8080/"
        },
        "id": "v7Jie-rCh1vF",
        "outputId": "d204a71b-64b9-4d92-b554-66045563e360"
      },
      "source": [
        "Omega = np.arange(1,16)\n",
        "N = 10000\n",
        "p = 0\n",
        "npar = 0\n",
        "\n",
        "for i in range(0,N):\n",
        "  valor = random.choice(Omega)\n",
        "  if valor%2 == 0:\n",
        "    npar = npar+1\n",
        "    if valor > 5:\n",
        "      p = p+1\n",
        "p = p/npar\n",
        "\n",
        "print('Frequencia:', p)\n",
        "print('Valor teórico:', 5/7)"
      ],
      "execution_count": 6,
      "outputs": [
        {
          "output_type": "stream",
          "text": [
            "Frequencia: 0.7309398099260823\n",
            "Valor teórico: 0.7142857142857143\n"
          ],
          "name": "stdout"
        }
      ]
    },
    {
      "cell_type": "markdown",
      "metadata": {
        "id": "UgG18rB61L6Z"
      },
      "source": [
        "**Exemplo**: Suponha que cinco lâmpadas perfeitas são misturadas com duas lâmpadas defeituosas, que não funcionam. Para encontrar as lâmpadas defeituosas, temos que testar uma a uma, sem substituição. Qual é a probabilidade de encontrarmos as duas lâmpadas defeituosas nos dois primeiros testes? "
      ]
    },
    {
      "cell_type": "code",
      "metadata": {
        "colab": {
          "base_uri": "https://localhost:8080/"
        },
        "id": "zzsNLCTNh9YP",
        "outputId": "18d5e700-1ef3-4048-9e92-ad7db081c16f"
      },
      "source": [
        "import random\n",
        "import numpy as np\n",
        "Omega = [1,1,1,1,1,0,0] # 1: perfeita, 0:defeituosa\n",
        "N = 100000\n",
        "p = 0\n",
        "for i in range(0,N):\n",
        "    lamp = random.sample(Omega, 2)\n",
        "    if(lamp[0]==0 and lamp[1] == 0):\n",
        "        p = p + 1\n",
        "p = p/N\n",
        "print('Frequencia:', p)\n",
        "pt = (Omega.count(0)/len(Omega))*((Omega.count(0)-1)/(len(Omega)-1))\n",
        "print('Valor teórico:', pt)"
      ],
      "execution_count": 4,
      "outputs": [
        {
          "output_type": "stream",
          "text": [
            "Frequencia: 0.04775\n",
            "Valor teórico: 0.047619047619047616\n"
          ],
          "name": "stdout"
        }
      ]
    },
    {
      "cell_type": "code",
      "metadata": {
        "id": "lEzo0ECc2Orc"
      },
      "source": [
        ""
      ],
      "execution_count": null,
      "outputs": []
    }
  ]
}