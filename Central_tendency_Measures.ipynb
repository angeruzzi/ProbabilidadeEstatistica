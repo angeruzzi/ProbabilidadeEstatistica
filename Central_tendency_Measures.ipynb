{
  "nbformat": 4,
  "nbformat_minor": 0,
  "metadata": {
    "colab": {
      "provenance": [],
      "authorship_tag": "ABX9TyP7RRWrEgQQ6zAppamfTstT",
      "include_colab_link": true
    },
    "kernelspec": {
      "name": "python3",
      "display_name": "Python 3"
    },
    "language_info": {
      "name": "python"
    }
  },
  "cells": [
    {
      "cell_type": "markdown",
      "metadata": {
        "id": "view-in-github",
        "colab_type": "text"
      },
      "source": [
        "<a href=\"https://colab.research.google.com/github/angeruzzi/ProbabilidadeEstatistica/blob/main/Central_tendency_Measures.ipynb\" target=\"_parent\"><img src=\"https://colab.research.google.com/assets/colab-badge.svg\" alt=\"Open In Colab\"/></a>"
      ]
    },
    {
      "cell_type": "code",
      "source": [
        "import numpy as np\n",
        "from scipy.stats import trim_mean"
      ],
      "metadata": {
        "id": "LvL87a9pvv5t"
      },
      "execution_count": 1,
      "outputs": []
    },
    {
      "cell_type": "code",
      "source": [
        "numbers = [2, 45, 47, 48, 60, 65, 70, 98, 106, 306]"
      ],
      "metadata": {
        "id": "sqg0JUEOUBRm"
      },
      "execution_count": 38,
      "outputs": []
    },
    {
      "cell_type": "code",
      "source": [
        "#Mean (Média)\n",
        "\n",
        "def calc_mean(values):\n",
        "    return sum(values) / len(values)\n",
        "\n",
        "mean1 = calc_mean(numbers)\n",
        "print(f'Mean by function: {mean1}')\n",
        "\n",
        "mean2 = np.mean(numbers)\n",
        "print(f'Mean by numpy: {mean2}')"
      ],
      "metadata": {
        "colab": {
          "base_uri": "https://localhost:8080/"
        },
        "id": "s4NQT49VwZqq",
        "outputId": "e830acee-449e-498c-b353-9cd75cbf69f2"
      },
      "execution_count": 39,
      "outputs": [
        {
          "output_type": "stream",
          "name": "stdout",
          "text": [
            "Mean by function: 84.7\n",
            "Mean by numpy: 84.7\n"
          ]
        }
      ]
    },
    {
      "cell_type": "code",
      "execution_count": 40,
      "metadata": {
        "colab": {
          "base_uri": "https://localhost:8080/"
        },
        "id": "mm7C--2aTrSu",
        "outputId": "220495ef-b064-4573-8042-3dde669ee007"
      },
      "outputs": [
        {
          "output_type": "stream",
          "name": "stdout",
          "text": [
            "Median by function: 62.5\n",
            "Median by numpy: 62.5\n"
          ]
        }
      ],
      "source": [
        "#Median (Mediana)\n",
        "\n",
        "def calc_median(values):\n",
        "    sorted_values = sorted(values)\n",
        "    middle = len(sorted_values) // 2\n",
        "    if len(sorted_values) % 2 == 0:\n",
        "        return (sorted_values[middle - 1] + sorted_values[middle]) / 2\n",
        "    else:\n",
        "        return sorted_values[middle]\n",
        "\n",
        "median1 = calc_median(numbers)\n",
        "print(f'Median by function: {median1}')\n",
        "\n",
        "median2 = np.median(numbers)\n",
        "print(f'Median by numpy: {median2}')\n"
      ]
    },
    {
      "cell_type": "code",
      "source": [
        "#Trimmed Mean or Truncated Mean (Média Aparada ou Média Truncada)\n",
        "\n",
        "def calc_trimmed_mean(values, percentage=0.1):\n",
        "    n = len(values)\n",
        "    k = int(n * percentage)\n",
        "    sorted_values = sorted(values)\n",
        "    trimmed_values = sorted_values[k:-k]\n",
        "    return sum(trimmed_values) / len(trimmed_values)\n",
        "\n",
        "trimmed1 = calc_trimmed_mean(numbers)\n",
        "print(f'Trimmed Mean by function: {trimmed1}')\n",
        "\n",
        "trimmed2 = trim_mean(numbers, proportiontocut=0.10)\n",
        "print(f'Trimmed Mean by scipy: {trimmed2}')\n"
      ],
      "metadata": {
        "colab": {
          "base_uri": "https://localhost:8080/"
        },
        "id": "4uigE4FrwITs",
        "outputId": "d15d28e5-cadf-42a2-b254-ccb62cf2fe74"
      },
      "execution_count": 35,
      "outputs": [
        {
          "output_type": "stream",
          "name": "stdout",
          "text": [
            "Trimmed Mean by function: 67.375\n",
            "Trimmed Mean by scipy: 67.375\n"
          ]
        }
      ]
    },
    {
      "cell_type": "markdown",
      "source": [],
      "metadata": {
        "id": "ZXEDdieXT5pJ"
      }
    }
  ]
}